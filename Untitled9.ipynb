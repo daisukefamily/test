{
 "cells": [
  {
   "cell_type": "code",
   "execution_count": 1,
   "metadata": {},
   "outputs": [
    {
     "name": "stdout",
     "output_type": "stream",
     "text": [
      "文字を入力a\n"
     ]
    },
    {
     "data": {
      "text/plain": [
       "'a'"
      ]
     },
     "execution_count": 1,
     "metadata": {},
     "output_type": "execute_result"
    }
   ],
   "source": [
    "input(\"文字を入力\")"
   ]
  },
  {
   "cell_type": "code",
   "execution_count": 34,
   "metadata": {},
   "outputs": [
    {
     "name": "stdout",
     "output_type": "stream",
     "text": [
      "じゃんけんグー\n",
      "パー\n",
      "あなたの負け\n"
     ]
    }
   ],
   "source": [
    "import random\n",
    "\n",
    "x=input(\"じゃんけん\")\n",
    "\n",
    "y = [\"グー\", \"チョキ\", \"パー\"]\n",
    "y = random.choice(y)\n",
    "print(y)\n",
    "if x == (\"グー\") and y == (\"パー\"):\n",
    "    print(\"あなたの負け\")\n",
    "elif x == (\"グー\") and y == (\"チョキ\"):\n",
    "    print(\"あなたの勝ち\")\n",
    "elif x == (\"グー\") and y == (\"グー\"):\n",
    "    print(\"あいこ\")\n",
    "elif x == (\"パー\") and y == (\"チョキ\"):\n",
    "    print(\"あなたの負け\")\n",
    "elif x == (\"パー\") and y == (\"グー\"):\n",
    "    print(\"あなたの勝ち\")\n",
    "elif x == (\"パー\") and y == (\"パー\"):\n",
    "    print(\"あいこ\")\n",
    "elif x == (\"チョキ\") and y == (\"グー\"):\n",
    "    print(\"あなたの負け\")\n",
    "elif x == (\"チョキ\") and y == (\"パー\"):\n",
    "    print(\"あなたの勝ち\")\n",
    "elif x == (\"チョキ\") and y == (\"チョキ\"):\n",
    "    print(\"あいこ\")\n",
    "else:\n",
    "    print(\"くたばれ\")\n",
    "\n",
    "    \n",
    "\n"
   ]
  },
  {
   "cell_type": "code",
   "execution_count": null,
   "metadata": {},
   "outputs": [],
   "source": []
  },
  {
   "cell_type": "code",
   "execution_count": null,
   "metadata": {},
   "outputs": [],
   "source": []
  },
  {
   "cell_type": "code",
   "execution_count": null,
   "metadata": {},
   "outputs": [],
   "source": []
  }
 ],
 "metadata": {
  "kernelspec": {
   "display_name": "Python 3",
   "language": "python",
   "name": "python3"
  },
  "language_info": {
   "codemirror_mode": {
    "name": "ipython",
    "version": 3
   },
   "file_extension": ".py",
   "mimetype": "text/x-python",
   "name": "python",
   "nbconvert_exporter": "python",
   "pygments_lexer": "ipython3",
   "version": "3.7.3"
  }
 },
 "nbformat": 4,
 "nbformat_minor": 2
}
